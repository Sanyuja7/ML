{
 "cells": [
  {
   "cell_type": "code",
   "execution_count": 1,
   "id": "3cae956f",
   "metadata": {},
   "outputs": [],
   "source": [
    "import pandas as pd\n",
    "import numpy as np...."
   ]
  },
  {
   "cell_type": "code",
   "execution_count": 4,
   "id": "eacc6ef2",
   "metadata": {},
   "outputs": [],
   "source": [
    "df = pd.read_csv(r\"C:\\Users\\hp\\Downloads\\sales_data_sample.csv\" , encoding=\"unicode_escape\")...."
   ]
  },
  {
   "cell_type": "code",
   "execution_count": null,
   "id": "c38f038c",
   "metadata": {},
   "outputs": [],
   "source": [
    "df.head()...."
   ]
  },
  {
   "cell_type": "code",
   "execution_count": null,
   "id": "dea8c00f",
   "metadata": {},
   "outputs": [],
   "source": [
    "df.info()...."
   ]
  },
  {
   "cell_type": "code",
   "execution_count": 8,
   "id": "6cdd240b",
   "metadata": {},
   "outputs": [],
   "source": [
    "to_drop = ['ADDRESSLINE1', 'ADDRESSLINE2', 'STATE', 'POSTALCODE', 'PHONE']\n",
    "df = df.drop(to_drop, axis=1)...."
   ]
  },
  {
   "cell_type": "code",
   "execution_count": null,
   "id": "573d1178",
   "metadata": {},
   "outputs": [],
   "source": [
    "df.isnull().sum()...."
   ]
  },
  {
   "cell_type": "code",
   "execution_count": null,
   "id": "ab5f8bdd",
   "metadata": {},
   "outputs": [],
   "source": [
    "df.dtypes...."
   ]
  },
  {
   "cell_type": "code",
   "execution_count": 11,
   "id": "ee5b60d2",
   "metadata": {},
   "outputs": [],
   "source": [
    "df['ORDERDATE'] = pd.to_datetime(df['ORDERDATE'])...."
   ]
  },
  {
   "cell_type": "code",
   "execution_count": 12,
   "id": "c89d3c86",
   "metadata": {},
   "outputs": [],
   "source": [
    "import datetime as dt\n",
    "snapshot_date = df['ORDERDATE'].max() + dt.timedelta(days = 1)\n",
    "df_RFM = df.groupby(['CUSTOMERNAME']).agg({\n",
    "    'ORDERDATE' : lambda x : (snapshot_date - x.max()).days,\n",
    "    'ORDERNUMBER' : 'count',\n",
    "    'SALES' : 'sum'\n",
    "})...."
   ]
  },
  {
   "cell_type": "code",
   "execution_count": 14,
   "id": "d07551c0",
   "metadata": {},
   "outputs": [],
   "source": [
    "df_RFM.rename(columns = {\n",
    "    'ORDERDATE' : 'Recency',\n",
    "    'ORDERNUMBER' : 'Frequency',\n",
    "    'SALES' : 'MonetaryValue'\n",
    "}, inplace=True)...."
   ]
  },
  {
   "cell_type": "code",
   "execution_count": null,
   "id": "8d5b7cf3",
   "metadata": {},
   "outputs": [],
   "source": [
    "df_RFM.head()...."
   ]
  },
  {
   "cell_type": "code",
   "execution_count": 16,
   "id": "d7a43472",
   "metadata": {},
   "outputs": [],
   "source": [
    "df_RFM['M'] = pd.qcut(df_RFM['MonetaryValue'], q = 4, labels = range(1,5))\n",
    "df_RFM['R'] = pd.qcut(df_RFM['Recency'], q = 4, labels = range(4,0,-1))\n",
    "df_RFM['F'] = pd.qcut(df_RFM['Frequency'], q = 4, labels = range(1,5))...."
   ]
  },
  {
   "cell_type": "code",
   "execution_count": null,
   "id": "a78cd1db",
   "metadata": {},
   "outputs": [],
   "source": [
    "df_RFM.head()...."
   ]
  },
  {
   "cell_type": "code",
   "execution_count": null,
   "id": "35bc89a0",
   "metadata": {},
   "outputs": [],
   "source": [
    "df_RFM['RFM_Score'] = df_RFM[['R', 'M', 'F']].sum(axis=1)\n",
    "df_RFM.head()...."
   ]
  },
  {
   "cell_type": "code",
   "execution_count": null,
   "id": "184aa3d2",
   "metadata": {},
   "outputs": [],
   "source": [
    "def rfm_level(df):\n",
    "    if bool(df['RFM_Score'] >= 10):\n",
    "        return 'High Value Customer'\n",
    "    \n",
    "    elif bool(df['RFM_Score'] < 10) and bool(df['RFM_Score'] >= 6):\n",
    "        return 'Mid Value Customer'\n",
    "    else:\n",
    "        return 'Low Value Customer'\n",
    "df_RFM['RFM_Level'] = df_RFM.apply(rfm_level, axis = 1)\n",
    "df_RFM.head()...."
   ]
  },
  {
   "cell_type": "code",
   "execution_count": null,
   "id": "badcd852",
   "metadata": {},
   "outputs": [],
   "source": [
    "data = df_RFM[['Recency', 'Frequency', 'MonetaryValue']]\n",
    "data.head()...."
   ]
  },
  {
   "cell_type": "code",
   "execution_count": null,
   "id": "079d2467",
   "metadata": {},
   "outputs": [],
   "source": [
    "data_log = np.log(data)\n",
    "data_log.head()...."
   ]
  },
  {
   "cell_type": "code",
   "execution_count": null,
   "id": "1c86372c",
   "metadata": {},
   "outputs": [],
   "source": [
    "from sklearn.preprocessing import StandardScaler\n",
    "scaler = StandardScaler()\n",
    "scaler.fit(data_log)\n",
    "data_normalized = scaler.transform(data_log)\n",
    "data_normalized = pd.DataFrame(data_normalized, index = data_log.index, columns=data_log.columns)\n",
    "data_normalized.describe().round(2)...."
   ]
  },
  {
   "cell_type": "code",
   "execution_count": null,
   "id": "4ba3f915",
   "metadata": {},
   "outputs": [],
   "source": [
    "import matplotlib.pyplot as plt\n",
    "import seaborn as sns\n",
    "from sklearn.cluster import KMeans\n",
    "\n",
    "sse = {}\n",
    "\n",
    "for k in range(1, 21):\n",
    "    kmeans = KMeans(n_clusters = k, random_state = 1)\n",
    "    kmeans.fit(data_normalized)\n",
    "    sse[k] = kmeans.inertia_...."
   ]
  },
  {
   "cell_type": "code",
   "execution_count": null,
   "id": "8788cbf9",
   "metadata": {},
   "outputs": [],
   "source": [
    "plt.figure(figsize=(10,6))\n",
    "plt.title('The Elbow Method')\n",
    "\n",
    "plt.xlabel('K')\n",
    "plt.ylabel('SSE')\n",
    "plt.style.use('ggplot')\n",
    "\n",
    "sns.pointplot(x=list(sse.keys()), y = list(sse.values()))\n",
    "plt.text(4.5, 60, \"Largest Angle\", bbox = dict(facecolor = 'lightgreen', alpha = 0.5))\n",
    "plt.show()...."
   ]
  },
  {
   "cell_type": "code",
   "execution_count": null,
   "id": "86e1f02a",
   "metadata": {},
   "outputs": [],
   "source": [
    "kmeans = KMeans(n_clusters=5, random_state=1)\n",
    "kmeans.fit(data_normalized)\n",
    "cluster_labels = kmeans.labels_\n",
    "\n",
    "data_rfm = data.assign(Cluster = cluster_labels)\n",
    "data_rfm.head()...."
   ]
  },
  {
   "cell_type": "code",
   "execution_count": null,
   "id": "740452bb",
   "metadata": {},
   "outputs": [],
   "source": []
  }
 ],
 "metadata": {
  "kernelspec": {
   "display_name": "Python 3 (ipykernel)",
   "language": "python",
   "name": "python3"
  },
  "language_info": {
   "codemirror_mode": {
    "name": "ipython",
    "version": 3
   },
   "file_extension": ".py",
   "mimetype": "text/x-python",
   "name": "python",
   "nbconvert_exporter": "python",
   "pygments_lexer": "ipython3",
   "version": "3.9.13"
  }
 },
 "nbformat": 4,
 "nbformat_minor": 5
}
