{
 "cells": [
  {
   "cell_type": "code",
   "execution_count": 1,
   "id": "907842ec",
   "metadata": {},
   "outputs": [],
   "source": [
    "import pandas as pd\n",
    "import numpy as np\n",
    "import warnings\n",
    "warnings.filterwarnings(\"ignore\")...."
   ]
  },
  {
   "cell_type": "code",
   "execution_count": 3,
   "id": "5ff3ee5a",
   "metadata": {},
   "outputs": [],
   "source": [
    "data = pd.read_csv(r'C:\\Users\\hp\\Downloads\\uber.csv')...."
   ]
  },
  {
   "cell_type": "code",
   "execution_count": 4,
   "id": "0596c636",
   "metadata": {},
   "outputs": [],
   "source": [
    "df = data.copy()...."
   ]
  },
  {
   "cell_type": "code",
   "execution_count": null,
   "id": "c2fdf685",
   "metadata": {},
   "outputs": [],
   "source": [
    "df.head()...."
   ]
  },
  {
   "cell_type": "code",
   "execution_count": null,
   "id": "52779aa9",
   "metadata": {},
   "outputs": [],
   "source": [
    "print(df.shape)\n",
    "print(df.columns)...."
   ]
  },
  {
   "cell_type": "code",
   "execution_count": null,
   "id": "59eea164",
   "metadata": {},
   "outputs": [],
   "source": [
    "df.info()...."
   ]
  },
  {
   "cell_type": "code",
   "execution_count": 10,
   "id": "891d3524",
   "metadata": {},
   "outputs": [],
   "source": [
    "df[\"pickup_datetime\"]=pd.to_datetime(df['pickup_datetime'])...."
   ]
  },
  {
   "cell_type": "code",
   "execution_count": null,
   "id": "434f5cf7",
   "metadata": {},
   "outputs": [],
   "source": [
    "df.head()...."
   ]
  },
  {
   "cell_type": "code",
   "execution_count": null,
   "id": "289a03c9",
   "metadata": {},
   "outputs": [],
   "source": [
    "df.describe()...."
   ]
  },
  {
   "cell_type": "code",
   "execution_count": null,
   "id": "a60cb806",
   "metadata": {},
   "outputs": [],
   "source": [
    "df.isnull().sum()...."
   ]
  },
  {
   "cell_type": "code",
   "execution_count": null,
   "id": "da75c7c2",
   "metadata": {},
   "outputs": [],
   "source": [
    "df.dropna(inplace=True)\n",
    "print(df.isnull().sum())...."
   ]
  },
  {
   "cell_type": "code",
   "execution_count": 15,
   "id": "1a115fe5",
   "metadata": {},
   "outputs": [],
   "source": [
    "import matplotlib.pyplot as plt\n",
    "import seaborn as sns\n",
    "%matplotlib inline...."
   ]
  },
  {
   "cell_type": "code",
   "execution_count": null,
   "id": "94897a27",
   "metadata": {},
   "outputs": [],
   "source": [
    "sns.distplot(df['fare_amount'])...."
   ]
  },
  {
   "cell_type": "code",
   "execution_count": null,
   "id": "5566182b",
   "metadata": {},
   "outputs": [],
   "source": [
    "sns.distplot(df['pickup_latitude'])...."
   ]
  },
  {
   "cell_type": "code",
   "execution_count": null,
   "id": "1e154c2e",
   "metadata": {},
   "outputs": [],
   "source": [
    "sns.distplot(df['pickup_longitude'])...."
   ]
  },
  {
   "cell_type": "code",
   "execution_count": null,
   "id": "e16f5aad",
   "metadata": {},
   "outputs": [],
   "source": [
    "sns.distplot(df['dropoff_longitude'])...."
   ]
  },
  {
   "cell_type": "code",
   "execution_count": null,
   "id": "937eeae5",
   "metadata": {},
   "outputs": [],
   "source": [
    "sns.distplot(df['dropoff_latitude'])...."
   ]
  },
  {
   "cell_type": "code",
   "execution_count": 21,
   "id": "9d9d4f95",
   "metadata": {},
   "outputs": [],
   "source": [
    "import calendar\n",
    "df['day']=df['pickup_datetime'].apply(lambda x:x.day)\n",
    "df['hour']=df['pickup_datetime'].apply(lambda x:x.hour)\n",
    "df['weekday']=df['pickup_datetime'].apply(lambda x:calendar.day_name)\n",
    "df['month']=df['pickup_datetime'].apply(lambda x:x.month)\n",
    "df['year']=df['pickup_datetime'].apply(lambda x:x.year)...."
   ]
  },
  {
   "cell_type": "code",
   "execution_count": null,
   "id": "ba9c1f29",
   "metadata": {},
   "outputs": [],
   "source": [
    "df.head()...."
   ]
  },
  {
   "cell_type": "code",
   "execution_count": 23,
   "id": "ae380840",
   "metadata": {},
   "outputs": [],
   "source": [
    "df.weekday = df.weekday.map({'Sunday':0,'Monday':1,'Tuesday':2,'Wednesday':3,'Thursday':4,'Friday':5,'Saturday':6})...."
   ]
  },
  {
   "cell_type": "code",
   "execution_count": null,
   "id": "da4c7d00",
   "metadata": {},
   "outputs": [],
   "source": [
    "df.info()...."
   ]
  },
  {
   "cell_type": "code",
   "execution_count": 25,
   "id": "52c4ccbf",
   "metadata": {},
   "outputs": [],
   "source": [
    "df=df[df['passenger_count']<=8]...."
   ]
  },
  {
   "cell_type": "code",
   "execution_count": null,
   "id": "3e735a78",
   "metadata": {},
   "outputs": [],
   "source": [
    "df.info()...."
   ]
  },
  {
   "cell_type": "code",
   "execution_count": 27,
   "id": "be9abe98",
   "metadata": {},
   "outputs": [],
   "source": [
    "from sklearn.model_selection import train_test_split...."
   ]
  },
  {
   "cell_type": "code",
   "execution_count": 28,
   "id": "b2ce45fe",
   "metadata": {},
   "outputs": [],
   "source": [
    "x=df.drop(\"fare_amount\", axis=1)...."
   ]
  },
  {
   "cell_type": "code",
   "execution_count": 29,
   "id": "d8a2986c",
   "metadata": {},
   "outputs": [],
   "source": [
    "y=df['fare_amount']...."
   ]
  },
  {
   "cell_type": "code",
   "execution_count": 30,
   "id": "f3493730",
   "metadata": {},
   "outputs": [],
   "source": [
    "x_train,x_test,y_train,y_test = train_test_split(x,y,test_size=0.2,random_state = 1)...."
   ]
  },
  {
   "cell_type": "code",
   "execution_count": null,
   "id": "b81a6f2a",
   "metadata": {},
   "outputs": [],
   "source": [
    "x_train.head()...."
   ]
  },
  {
   "cell_type": "code",
   "execution_count": null,
   "id": "5d3a2eeb",
   "metadata": {},
   "outputs": [],
   "source": [
    "x_test.head()...."
   ]
  },
  {
   "cell_type": "code",
   "execution_count": 33,
   "id": "8c49654d",
   "metadata": {},
   "outputs": [],
   "source": [
    "x_train['pickup_datetime'] = pd.to_numeric(pd.to_datetime(x_train['pickup_datetime']))\n",
    "x_test['pickup_datetime'] = pd.to_numeric(pd.to_datetime(x_test['pickup_datetime']))"
   ]
  },
  {
   "cell_type": "code",
   "execution_count": null,
   "id": "34995b38",
   "metadata": {},
   "outputs": [],
   "source": [
    "x_train.shape...."
   ]
  },
  {
   "cell_type": "code",
   "execution_count": null,
   "id": "70870f61",
   "metadata": {},
   "outputs": [],
   "source": [
    "x_test.shape...."
   ]
  },
  {
   "cell_type": "code",
   "execution_count": 36,
   "id": "68dbf969",
   "metadata": {},
   "outputs": [],
   "source": [
    "from sklearn.linear_model import LinearRegression...."
   ]
  },
  {
   "cell_type": "code",
   "execution_count": null,
   "id": "bafdd700",
   "metadata": {},
   "outputs": [],
   "source": [
    "lrmodel=LinearRegression()\n",
    "lrmodel.fit(x_train, y_train)...."
   ]
  },
  {
   "cell_type": "code",
   "execution_count": null,
   "id": "d0b962c3",
   "metadata": {},
   "outputs": [],
   "source": [
    "predictedvalues = lrmodel.predict(x_test)...."
   ]
  },
  {
   "cell_type": "code",
   "execution_count": null,
   "id": "18eaa1a6",
   "metadata": {},
   "outputs": [],
   "source": [
    "from sklearn.metrices import mean_squared_error\n",
    "lrmodelrmse = np_sqrt(mean_squared_error(predictedvalues, y_test))\n",
    "print(\"RMSE value for Linear regression is\", lrmodelrmse)...."
   ]
  },
  {
   "cell_type": "code",
   "execution_count": 43,
   "id": "fa40de53",
   "metadata": {},
   "outputs": [],
   "source": [
    "from sklearn.ensemble import RandomForestRegressor\n",
    "rfrmodel = RandomForestRegressor(n_estimators=100, random_state=101)...."
   ]
  },
  {
   "cell_type": "code",
   "execution_count": null,
   "id": "5214c8d4",
   "metadata": {},
   "outputs": [],
   "source": [
    "rfrmodel.fit(x_train,y_train)\n",
    "rfrmodel_pred=rfrmodel.predict(x_test)...."
   ]
  },
  {
   "cell_type": "code",
   "execution_count": null,
   "id": "b656e558",
   "metadata": {},
   "outputs": [],
   "source": [
    "rfrmodel_rmse=np.sqrt(mean_squared_error(rfrmodel_pred, y_test))\n",
    "print(\"RMSE value for Random forest regression is \",rfrmodel_rmse)...."
   ]
  },
  {
   "cell_type": "code",
   "execution_count": null,
   "id": "89b1a812",
   "metadata": {},
   "outputs": [],
   "source": []
  }
 ],
 "metadata": {
  "kernelspec": {
   "display_name": "Python 3 (ipykernel)",
   "language": "python",
   "name": "python3"
  },
  "language_info": {
   "codemirror_mode": {
    "name": "ipython",
    "version": 3
   },
   "file_extension": ".py",
   "mimetype": "text/x-python",
   "name": "python",
   "nbconvert_exporter": "python",
   "pygments_lexer": "ipython3",
   "version": "3.9.13"
  }
 },
 "nbformat": 4,
 "nbformat_minor": 5
}
