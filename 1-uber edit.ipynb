{
 "cells": [
  {
   "cell_type": "code",
   "execution_count": 1,
   "id": "a19b8c3a",
   "metadata": {},
   "outputs": [],
   "source": [
    "import pandas as pd\n",
    "import numpy as np\n",
    "import matplotlib.pyplot as plt\n",
    "import warnings \n",
    "warnings.filterwarnings(\"ignore\")...."
   ]
  },
  {
   "cell_type": "code",
   "execution_count": 2,
   "id": "3ae3c907",
   "metadata": {},
   "outputs": [],
   "source": [
    "data = pd.read_csv(r\"C:\\Users\\hp\\Downloads\\uber.csv\")...."
   ]
  },
  {
   "cell_type": "code",
   "execution_count": 3,
   "id": "1b7dc56f",
   "metadata": {},
   "outputs": [],
   "source": [
    "df = data.copy()...."
   ]
  },
  {
   "cell_type": "code",
   "execution_count": null,
   "id": "afdf5ca1",
   "metadata": {},
   "outputs": [],
   "source": [
    "df.head()...."
   ]
  },
  {
   "cell_type": "code",
   "execution_count": null,
   "id": "0172c8b8",
   "metadata": {},
   "outputs": [],
   "source": [
    "df.info()...."
   ]
  },
  {
   "cell_type": "code",
   "execution_count": 6,
   "id": "16e579b1",
   "metadata": {},
   "outputs": [],
   "source": [
    "df[\"pickup_datetime\"] = pd.to_datetime(df[\"pickup_datetime\"])...."
   ]
  },
  {
   "cell_type": "code",
   "execution_count": null,
   "id": "70bb3507",
   "metadata": {},
   "outputs": [],
   "source": [
    "df.info()...."
   ]
  },
  {
   "cell_type": "code",
   "execution_count": null,
   "id": "fb00d2f4",
   "metadata": {},
   "outputs": [],
   "source": [
    "df.describe()...."
   ]
  },
  {
   "cell_type": "code",
   "execution_count": null,
   "id": "185ed15c",
   "metadata": {},
   "outputs": [],
   "source": [
    "df.isnull().sum()...."
   ]
  },
  {
   "cell_type": "code",
   "execution_count": null,
   "id": "49807e4e",
   "metadata": {},
   "outputs": [],
   "source": [
    "df.corr()...."
   ]
  },
  {
   "cell_type": "code",
   "execution_count": 11,
   "id": "920b2f17",
   "metadata": {},
   "outputs": [],
   "source": [
    "df.dropna(inplace=True)...."
   ]
  },
  {
   "cell_type": "code",
   "execution_count": null,
   "id": "6bc979ac",
   "metadata": {},
   "outputs": [],
   "source": [
    "plt.boxplot(df['fare_amount'])...."
   ]
  },
  {
   "cell_type": "code",
   "execution_count": 13,
   "id": "75e2fb02",
   "metadata": {},
   "outputs": [],
   "source": [
    "q_low = df[\"fare_amount\"].quantile(0.01)\n",
    "q_hi  = df[\"fare_amount\"].quantile(0.99)\n",
    "df = df[(df[\"fare_amount\"] < q_hi) & (df[\"fare_amount\"] > q_low)]...."
   ]
  },
  {
   "cell_type": "code",
   "execution_count": null,
   "id": "eaae8d0a",
   "metadata": {},
   "outputs": [],
   "source": [
    "df.isnull().sum()...."
   ]
  },
  {
   "cell_type": "code",
   "execution_count": 15,
   "id": "bf764863",
   "metadata": {},
   "outputs": [],
   "source": [
    "from sklearn.model_selection import train_test_split...."
   ]
  },
  {
   "cell_type": "code",
   "execution_count": 16,
   "id": "8190116d",
   "metadata": {},
   "outputs": [],
   "source": [
    "x = df.drop(\"fare_amount\", axis = 1)\n",
    "y = df['fare_amount']...."
   ]
  },
  {
   "cell_type": "code",
   "execution_count": 17,
   "id": "cb83503a",
   "metadata": {},
   "outputs": [],
   "source": [
    "x['pickup_datetime'] = pd.to_numeric(pd.to_datetime(x['pickup_datetime']))\n",
    "x = x.loc[:, x.columns.str.contains('^Unnamed')]...."
   ]
  },
  {
   "cell_type": "code",
   "execution_count": 18,
   "id": "5bcb8f8f",
   "metadata": {},
   "outputs": [],
   "source": [
    "x_train, x_test, y_train, y_test = train_test_split(x, y, test_size = 0.2, random_state = 1)...."
   ]
  },
  {
   "cell_type": "code",
   "execution_count": 19,
   "id": "eedbb40f",
   "metadata": {},
   "outputs": [],
   "source": [
    "from sklearn.linear_model import LinearRegression...."
   ]
  },
  {
   "cell_type": "code",
   "execution_count": 20,
   "id": "97850c6f",
   "metadata": {},
   "outputs": [
    {
     "data": {
      "text/plain": [
       "LinearRegression()"
      ]
     },
     "execution_count": 20,
     "metadata": {},
     "output_type": "execute_result"
    }
   ],
   "source": [
    "lrmodel = LinearRegression()\n",
    "lrmodel.fit(x_train, y_train)...."
   ]
  },
  {
   "cell_type": "code",
   "execution_count": 21,
   "id": "8a1301e5",
   "metadata": {},
   "outputs": [],
   "source": [
    "predict = lrmodel.predict(x_test)...."
   ]
  },
  {
   "cell_type": "code",
   "execution_count": null,
   "id": "8cb1ce76",
   "metadata": {},
   "outputs": [],
   "source": [
    "from sklearn.metrics import mean_squared_error\n",
    "lrmodelrmse = np.sqrt(mean_squared_error(predict, y_test))\n",
    "print(\"RMSE error for the model is \", lrmodelrmse)...."
   ]
  },
  {
   "cell_type": "code",
   "execution_count": 23,
   "id": "192d3a3a",
   "metadata": {},
   "outputs": [],
   "source": [
    "from sklearn.ensemble import RandomForestRegressor\n",
    "rfrmodel = RandomForestRegressor(n_estimators = 100, random_state = 101)...."
   ]
  },
  {
   "cell_type": "code",
   "execution_count": 24,
   "id": "29f825ba",
   "metadata": {},
   "outputs": [],
   "source": [
    "rfrmodel.fit(x_train, y_train)\n",
    "rfrmodel_pred = rfrmodel.predict(x_test)...."
   ]
  },
  {
   "cell_type": "code",
   "execution_count": null,
   "id": "a5f5bcfc",
   "metadata": {},
   "outputs": [],
   "source": [
    "rfrmodel_rmse = np.sqrt(mean_squared_error(rfrmodel_pred, y_test))\n",
    "print(\"RMSE value for Random Forest is:\",rfrmodel_rmse)...."
   ]
  },
  {
   "cell_type": "code",
   "execution_count": null,
   "id": "06001ac5",
   "metadata": {},
   "outputs": [],
   "source": []
  }
 ],
 "metadata": {
  "kernelspec": {
   "display_name": "Python 3 (ipykernel)",
   "language": "python",
   "name": "python3"
  },
  "language_info": {
   "codemirror_mode": {
    "name": "ipython",
    "version": 3
   },
   "file_extension": ".py",
   "mimetype": "text/x-python",
   "name": "python",
   "nbconvert_exporter": "python",
   "pygments_lexer": "ipython3",
   "version": "3.9.13"
  }
 },
 "nbformat": 4,
 "nbformat_minor": 5
}
