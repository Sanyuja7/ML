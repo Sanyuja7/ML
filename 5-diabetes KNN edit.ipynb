{
 "cells": [
  {
   "cell_type": "code",
   "execution_count": 1,
   "id": "1d0283c7",
   "metadata": {},
   "outputs": [],
   "source": [
    "import numpy as np\n",
    "import pandas as pd...."
   ]
  },
  {
   "cell_type": "code",
   "execution_count": null,
   "id": "377d393b",
   "metadata": {},
   "outputs": [],
   "source": [
    "data = pd.read_csv(r\"C:\\Users\\hp\\Downloads\\diabetes.csv\")\n",
    "data.head()...."
   ]
  },
  {
   "cell_type": "code",
   "execution_count": null,
   "id": "05f7e6e0",
   "metadata": {},
   "outputs": [],
   "source": [
    "data.isnull().sum()...."
   ]
  },
  {
   "cell_type": "code",
   "execution_count": null,
   "id": "aaf865b7",
   "metadata": {},
   "outputs": [],
   "source": [
    "for column in data.columns[1:-3]:\n",
    "    data[column].replace(0, np.NaN, inplace = True)\n",
    "    data[column].fillna(round(data[column].mean(skipna=True)), inplace = True)\n",
    "data.head(10)...."
   ]
  },
  {
   "cell_type": "code",
   "execution_count": 12,
   "id": "3c207150",
   "metadata": {},
   "outputs": [],
   "source": [
    "X = data.iloc[:, :8]\n",
    "Y = data.iloc[:, 8:]...."
   ]
  },
  {
   "cell_type": "code",
   "execution_count": 13,
   "id": "4673df2a",
   "metadata": {},
   "outputs": [],
   "source": [
    "from sklearn.model_selection import train_test_split\n",
    "X_train, X_test, Y_train, Y_test = train_test_split(X, Y, test_size=0.2, random_state=0)...."
   ]
  },
  {
   "cell_type": "code",
   "execution_count": null,
   "id": "b69c2c39",
   "metadata": {},
   "outputs": [],
   "source": [
    "from sklearn.neighbors import KNeighborsClassifier\n",
    "knn = KNeighborsClassifier()\n",
    "knn_fit = knn.fit(X_train, Y_train.values.ravel())\n",
    "knn_pred = knn_fit.predict(X_test)...."
   ]
  },
  {
   "cell_type": "code",
   "execution_count": null,
   "id": "00f31e35",
   "metadata": {},
   "outputs": [],
   "source": [
    "from sklearn.metrics import confusion_matrix, precision_score, recall_score, f1_score, accuracy_score\n",
    "print(\"Confusion Matrix\")\n",
    "print(confusion_matrix(Y_test, knn_pred))\n",
    "print(\"Accuracy Score:\", accuracy_score(Y_test, knn_pred))\n",
    "print(\"Reacal Score:\", recall_score(Y_test, knn_pred))\n",
    "print(\"F1 Score:\", f1_score(Y_test, knn_pred))\n",
    "print(\"Precision Score:\",precision_score(Y_test, knn_pred))...."
   ]
  },
  {
   "cell_type": "code",
   "execution_count": null,
   "id": "41c4723e",
   "metadata": {},
   "outputs": [],
   "source": []
  }
 ],
 "metadata": {
  "kernelspec": {
   "display_name": "Python 3 (ipykernel)",
   "language": "python",
   "name": "python3"
  },
  "language_info": {
   "codemirror_mode": {
    "name": "ipython",
    "version": 3
   },
   "file_extension": ".py",
   "mimetype": "text/x-python",
   "name": "python",
   "nbconvert_exporter": "python",
   "pygments_lexer": "ipython3",
   "version": "3.9.13"
  }
 },
 "nbformat": 4,
 "nbformat_minor": 5
}
