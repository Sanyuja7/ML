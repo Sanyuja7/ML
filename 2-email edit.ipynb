{
 "cells": [
  {
   "cell_type": "code",
   "execution_count": 2,
   "id": "0a8bb037",
   "metadata": {},
   "outputs": [],
   "source": [
    "import numpy as np\n",
    "import pandas as pd\n",
    "from sklearn.model_selection import train_test_split\n",
    "from sklearn.naive_bayes import MultinomialNB\n",
    "from sklearn.svm import SVC\n",
    "from sklearn.ensemble import RandomForestClassifier\n",
    "from sklearn.metrics import accuracy_score\n",
    "from sklearn.neighbors import KNeighborsClassifier...."
   ]
  },
  {
   "cell_type": "code",
   "execution_count": 4,
   "id": "6836b1d0",
   "metadata": {},
   "outputs": [],
   "source": [
    "df = pd.read_csv(r\"C:\\Users\\hp\\Downloads\\emails.csv\")...."
   ]
  },
  {
   "cell_type": "code",
   "execution_count": null,
   "id": "9638bc31",
   "metadata": {},
   "outputs": [],
   "source": [
    "df.head()...."
   ]
  },
  {
   "cell_type": "code",
   "execution_count": null,
   "id": "0cf9c5e3",
   "metadata": {},
   "outputs": [],
   "source": [
    "df.isnull().sum()...."
   ]
  },
  {
   "cell_type": "code",
   "execution_count": null,
   "id": "c5592ab3",
   "metadata": {},
   "outputs": [],
   "source": [
    "X = df.iloc[:,1:3001]\n",
    "X...."
   ]
  },
  {
   "cell_type": "code",
   "execution_count": null,
   "id": "f829230e",
   "metadata": {},
   "outputs": [],
   "source": [
    "Y = df.iloc[:,-1].values\n",
    "Y...."
   ]
  },
  {
   "cell_type": "code",
   "execution_count": 10,
   "id": "5fd327dd",
   "metadata": {},
   "outputs": [],
   "source": [
    "train_x,test_x,train_y,test_y = train_test_split(X,Y,test_size = 0.25)...."
   ]
  },
  {
   "cell_type": "code",
   "execution_count": null,
   "id": "aa42cbb5",
   "metadata": {},
   "outputs": [],
   "source": [
    "svc = SVC(C=1.0,kernel='rbf',gamma='auto')\n",
    "svc.fit(train_x,train_y)\n",
    "y_pred2 = svc.predict(test_x)\n",
    "print(\"Accuracy Score for SVC : \", accuracy_score(y_pred2,test_y))...."
   ]
  },
  {
   "cell_type": "code",
   "execution_count": 12,
   "id": "174ed9ee",
   "metadata": {},
   "outputs": [],
   "source": [
    "X_train, X_test, y_train, y_test =train_test_split(X, Y, test_size = 0.2, random_state=42)...."
   ]
  },
  {
   "cell_type": "code",
   "execution_count": 13,
   "id": "a9c2688c",
   "metadata": {},
   "outputs": [],
   "source": [
    "knn = KNeighborsClassifier(n_neighbors=7)...."
   ]
  },
  {
   "cell_type": "code",
   "execution_count": null,
   "id": "626ce3f7",
   "metadata": {},
   "outputs": [],
   "source": [
    "knn.fit(X_train, y_train)...."
   ]
  },
  {
   "cell_type": "code",
   "execution_count": null,
   "id": "a4d79167",
   "metadata": {},
   "outputs": [],
   "source": [
    "print(knn.predict(X_test))...."
   ]
  },
  {
   "cell_type": "code",
   "execution_count": null,
   "id": "768d1b3a",
   "metadata": {},
   "outputs": [],
   "source": [
    "print(knn.score(X_test, y_test))...."
   ]
  },
  {
   "cell_type": "code",
   "execution_count": null,
   "id": "4b718052",
   "metadata": {},
   "outputs": [],
   "source": []
  }
 ],
 "metadata": {
  "kernelspec": {
   "display_name": "Python 3 (ipykernel)",
   "language": "python",
   "name": "python3"
  },
  "language_info": {
   "codemirror_mode": {
    "name": "ipython",
    "version": 3
   },
   "file_extension": ".py",
   "mimetype": "text/x-python",
   "name": "python",
   "nbconvert_exporter": "python",
   "pygments_lexer": "ipython3",
   "version": "3.9.13"
  }
 },
 "nbformat": 4,
 "nbformat_minor": 5
}
